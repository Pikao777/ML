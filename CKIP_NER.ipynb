{
 "cells": [
  {
   "cell_type": "code",
   "execution_count": 3,
   "id": "99deef54",
   "metadata": {},
   "outputs": [],
   "source": [
    "from ckip_transformers.nlp import CkipWordSegmenter, CkipPosTagger, CkipNerChunker"
   ]
  },
  {
   "cell_type": "code",
   "execution_count": 11,
   "id": "52369dec",
   "metadata": {
    "scrolled": true
   },
   "outputs": [
    {
     "data": {
      "application/vnd.jupyter.widget-view+json": {
       "model_id": "02e25a4bdbf34d009ae1a7c37dc13683",
       "version_major": 2,
       "version_minor": 0
      },
      "text/plain": [
       "Downloading (…)lve/main/config.json:   0%|          | 0.00/2.86k [00:00<?, ?B/s]"
      ]
     },
     "metadata": {},
     "output_type": "display_data"
    },
    {
     "data": {
      "application/vnd.jupyter.widget-view+json": {
       "model_id": "92ce868d918a4f02acded85c94f76fbf",
       "version_major": 2,
       "version_minor": 0
      },
      "text/plain": [
       "Downloading (…)\"pytorch_model.bin\";:   0%|          | 0.00/407M [00:00<?, ?B/s]"
      ]
     },
     "metadata": {},
     "output_type": "display_data"
    },
    {
     "data": {
      "application/vnd.jupyter.widget-view+json": {
       "model_id": "b25c9f2574854dd983903f98e32b2f7b",
       "version_major": 2,
       "version_minor": 0
      },
      "text/plain": [
       "Downloading (…)okenizer_config.json:   0%|          | 0.00/301 [00:00<?, ?B/s]"
      ]
     },
     "metadata": {},
     "output_type": "display_data"
    },
    {
     "data": {
      "application/vnd.jupyter.widget-view+json": {
       "model_id": "ebf00b4795904e8bb68853ffe4dd33b4",
       "version_major": 2,
       "version_minor": 0
      },
      "text/plain": [
       "Downloading (…)solve/main/vocab.txt:   0%|          | 0.00/110k [00:00<?, ?B/s]"
      ]
     },
     "metadata": {},
     "output_type": "display_data"
    },
    {
     "data": {
      "application/vnd.jupyter.widget-view+json": {
       "model_id": "60c3ae1e66b544948213023e649a9fe2",
       "version_major": 2,
       "version_minor": 0
      },
      "text/plain": [
       "Downloading (…)cial_tokens_map.json:   0%|          | 0.00/112 [00:00<?, ?B/s]"
      ]
     },
     "metadata": {},
     "output_type": "display_data"
    }
   ],
   "source": [
    "ws_driver  = CkipWordSegmenter(model=\"bert-base\")\n",
    "pos_driver = CkipPosTagger(model=\"bert-base\")\n",
    "ner_driver = CkipNerChunker(model=\"bert-base\")"
   ]
  },
  {
   "cell_type": "code",
   "execution_count": 12,
   "id": "0f870bb1",
   "metadata": {},
   "outputs": [],
   "source": [
    "ws_driver = CkipWordSegmenter(device=-1)"
   ]
  },
  {
   "cell_type": "code",
   "execution_count": 27,
   "id": "464c887d",
   "metadata": {},
   "outputs": [
    {
     "name": "stderr",
     "output_type": "stream",
     "text": [
      "Tokenization: 100%|██████████████████████████████████████████████████████████████████████████████| 1/1 [00:00<?, ?it/s]\n",
      "Inference: 100%|█████████████████████████████████████████████████████████████████████████| 1/1 [00:00<00:00, 23.33it/s]\n",
      "Tokenization: 100%|██████████████████████████████████████████████████████████████████████████████| 1/1 [00:00<?, ?it/s]\n",
      "Inference: 100%|█████████████████████████████████████████████████████████████████████████| 1/1 [00:00<00:00, 25.08it/s]\n",
      "Tokenization: 100%|██████████████████████████████████████████████████████████████████████████████| 1/1 [00:00<?, ?it/s]\n",
      "Inference: 100%|█████████████████████████████████████████████████████████████████████████| 1/1 [00:00<00:00, 32.37it/s]\n"
     ]
    }
   ],
   "source": [
    "text = [\n",
    "   \"病人因上述病因於107年09月18日至急診，接受心臟移植手術（1.5公分縫2針）離院。於107年09月20日及107年09月27日至門診追蹤\"\n",
    "]\n",
    "\n",
    "ws  = ws_driver(text)\n",
    "pos = pos_driver(ws)\n",
    "ner = ner_driver(text)"
   ]
  },
  {
   "cell_type": "code",
   "execution_count": 28,
   "id": "2c446792",
   "metadata": {},
   "outputs": [
    {
     "name": "stderr",
     "output_type": "stream",
     "text": [
      "Tokenization: 100%|████████████████████████████████████████████████████████████████████| 1/1 [00:00<00:00, 1003.42it/s]\n",
      "Inference: 100%|█████████████████████████████████████████████████████████████████████████| 1/1 [00:00<00:00, 20.07it/s]\n",
      "Tokenization: 100%|██████████████████████████████████████████████████████████████████████████████| 1/1 [00:00<?, ?it/s]\n",
      "Inference: 100%|█████████████████████████████████████████████████████████████████████████| 1/1 [00:00<00:00, 25.73it/s]\n",
      "Tokenization: 100%|██████████████████████████████████████████████████████████████████████████████| 1/1 [00:00<?, ?it/s]\n",
      "Inference: 100%|█████████████████████████████████████████████████████████████████████████| 1/1 [00:00<00:00, 32.37it/s]\n",
      "Tokenization: 100%|██████████████████████████████████████████████████████████████████████████████| 1/1 [00:00<?, ?it/s]\n",
      "Inference: 100%|█████████████████████████████████████████████████████████████████████████| 1/1 [00:00<00:00, 32.37it/s]\n"
     ]
    }
   ],
   "source": [
    "# Enable sentence segmentation\n",
    "ws  = ws_driver(text, use_delim=True)\n",
    "ner = ner_driver(text, use_delim=True)\n",
    "\n",
    "# Disable sentence segmentation\n",
    "pos = pos_driver(ws, use_delim=False)\n",
    "\n",
    "# Use new line characters and tabs for sentence segmentation\n",
    "pos = pos_driver(ws, delim_set='\\n\\t')"
   ]
  },
  {
   "cell_type": "code",
   "execution_count": 29,
   "id": "be7d07f9",
   "metadata": {},
   "outputs": [
    {
     "name": "stderr",
     "output_type": "stream",
     "text": [
      "Tokenization: 100%|████████████████████████████████████████████████████████████████████| 1/1 [00:00<00:00, 1003.42it/s]\n",
      "Inference: 100%|█████████████████████████████████████████████████████████████████████████| 1/1 [00:00<00:00, 23.89it/s]\n"
     ]
    }
   ],
   "source": [
    "# Sets the batch size and maximum sentence length\n",
    "ws = ws_driver(text, batch_size=256, max_length=128)"
   ]
  },
  {
   "cell_type": "code",
   "execution_count": 30,
   "id": "7824649d",
   "metadata": {},
   "outputs": [
    {
     "name": "stdout",
     "output_type": "stream",
     "text": [
      "病人因上述病因於107年09月18日至急診，接受心臟移植手術（1.5公分縫2針）離院。於107年09月20日及107年09月27日至門診追蹤\n",
      "病人(Na)　因(P)　上述(Na)　病因(Na)　於(P)　107年(Nd)　09月(Neu)　18日(Neu)　至(P)　急診(VB)　，(COMMACATEGORY)　接受(VC)　心臟(Na)　移植(VC)　手術(Na)　（(PARENTHESISCATEGORY)　1.5(Neu)　公分(Nf)　縫(VC)　2(Neu)　針(Nf)　）(PARENTHESISCATEGORY)　離(VA)　院(Nc)　。(PERIODCATEGORY)　於(P)　107年(Neu)　09月(Neu)　20日(Neu)　及(Caa)　107年(Neu)　09月(Neu)　27日(Neu)　至(P)　門診(VA)　追蹤(VC)\n",
      "NerToken(word='107年09月18日', ner='DATE', idx=(8, 18))\n",
      "NerToken(word='1.5公分', ner='QUANTITY', idx=(31, 36))\n",
      "NerToken(word='2', ner='CARDINAL', idx=(37, 38))\n",
      "NerToken(word='107年09月20日', ner='DATE', idx=(44, 54))\n",
      "NerToken(word='107年09月27日', ner='DATE', idx=(55, 65))\n",
      "\n"
     ]
    }
   ],
   "source": [
    "# Pack word segmentation and part-of-speech results\n",
    "def pack_ws_pos_sentece(sentence_ws, sentence_pos):\n",
    "    assert len(sentence_ws) == len(sentence_pos)\n",
    "    res = []\n",
    "    for word_ws, word_pos in zip(sentence_ws, sentence_pos):\n",
    "        res.append(f\"{word_ws}({word_pos})\")\n",
    "    return \"\\u3000\".join(res)\n",
    "\n",
    "# Show results\n",
    "for sentence, sentence_ws, sentence_pos, sentence_ner in zip(text, ws, pos, ner):\n",
    "    print(sentence)\n",
    "    print(pack_ws_pos_sentece(sentence_ws, sentence_pos))\n",
    "    for entity in sentence_ner:\n",
    "        print(entity)\n",
    "    print()"
   ]
  }
 ],
 "metadata": {
  "kernelspec": {
   "display_name": "Python 3 (ipykernel)",
   "language": "python",
   "name": "python3"
  },
  "language_info": {
   "codemirror_mode": {
    "name": "ipython",
    "version": 3
   },
   "file_extension": ".py",
   "mimetype": "text/x-python",
   "name": "python",
   "nbconvert_exporter": "python",
   "pygments_lexer": "ipython3",
   "version": "3.9.13"
  }
 },
 "nbformat": 4,
 "nbformat_minor": 5
}
